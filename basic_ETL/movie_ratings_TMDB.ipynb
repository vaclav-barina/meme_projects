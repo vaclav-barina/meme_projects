{
 "cells": [
  {
   "cell_type": "code",
   "execution_count": 39,
   "metadata": {},
   "outputs": [],
   "source": [
    "import environs\n",
    "import requests"
   ]
  },
  {
   "cell_type": "markdown",
   "metadata": {},
   "source": [
    "#### Prototyping API Reads"
   ]
  },
  {
   "cell_type": "code",
   "execution_count": 40,
   "metadata": {},
   "outputs": [],
   "source": [
    "# Reading in the API KEY\n",
    "env = environs.Env()\n",
    "env.read_env('.env')\n",
    "\n",
    "key = env('API_KEY') # TMDB API Key"
   ]
  },
  {
   "cell_type": "code",
   "execution_count": 45,
   "metadata": {},
   "outputs": [],
   "source": [
    "url = \"https://api.themoviedb.org/3/search/movie?query=star%2520wars&include_adult=false&language=en-US&page=1\"\n",
    "params = {\n",
    "    \"api_key\": key,\n",
    "}"
   ]
  },
  {
   "cell_type": "code",
   "execution_count": 46,
   "metadata": {},
   "outputs": [
    {
     "name": "stdout",
     "output_type": "stream",
     "text": [
      "{\"page\":1,\"results\":[{\"adult\":false,\"backdrop_path\":\"/jNjT5y95BToczcxgVPl1NBB7goY.jpg\",\"genre_ids\":[12,28,878],\"id\":11,\"original_language\":\"en\",\"original_title\":\"Star Wars\",\"overview\":\"Princess Leia is captured and held hostage by the evil Imperial forces in their effort to take over the galactic Empire. Venturesome Luke Skywalker and dashing captain Han Solo team together with the loveable robot duo R2-D2 and C-3PO to rescue the beautiful princess and restore peace and justice in the Empire.\",\"popularity\":150.916,\"poster_path\":\"/6FfCtAuVAW8XJjZ7eWeLibRLWTw.jpg\",\"release_date\":\"1977-05-25\",\"title\":\"Star Wars\",\"video\":false,\"vote_average\":8.203,\"vote_count\":20274},{\"adult\":false,\"backdrop_path\":\"/k6EOrckWFuz7I4z4wiRwz8zsj4H.jpg\",\"genre_ids\":[12,28,878],\"id\":140607,\"original_language\":\"en\",\"original_title\":\"Star Wars: The Force Awakens\",\"overview\":\"Thirty years after defeating the Galactic Empire, Han Solo and his allies face a new threat from the evil Kylo Ren and his army of Stormtroopers.\",\"popularity\":88.529,\"poster_path\":\"/wqnLdwVXoBjKibFRR5U3y0aDUhs.jpg\",\"release_date\":\"2015-12-15\",\"title\":\"Star Wars: The Force Awakens\",\"video\":false,\"vote_average\":7.278,\"vote_count\":19087},{\"adult\":false,\"backdrop_path\":\"/epVMXf10WqFkONzKR8V76Ypj5Y3.jpg\",\"genre_ids\":[12,28,878],\"id\":181808,\"original_language\":\"en\",\"original_title\":\"Star Wars: The Last Jedi\",\"overview\":\"Rey develops her newly discovered abilities with the guidance of Luke Skywalker, who is unsettled by the strength of her powers. Meanwhile, the Resistance prepares to do battle with the First Order.\",\"popularity\":84.642,\"poster_path\":\"/kOVEVeg59E0wsnXmF9nrh6OmWII.jpg\",\"release_date\":\"2017-12-13\",\"title\":\"Star Wars: The Last Jedi\",\"video\":false,\"vote_average\":6.799,\"vote_count\":15006},{\"adult\":false,\"backdrop_path\":\"/ojHCeDULAkQK25700fhRU75Tur2.jpg\",\"genre_ids\":[878,12,28],\"id\":348350,\"original_language\":\"en\",\"original_title\":\"Solo: A Star Wars Story\",\"overview\":\"Through a series of daring escapades deep within a dark and dangerous criminal underworld, Han Solo meets his mighty future copilot Chewbacca and encounters the notorious gambler Lando Calrissian.\",\"popularity\":52.474,\"poster_path\":\"/4oD6VEccFkorEBTEDXtpLAaz0Rl.jpg\",\"release_date\":\"2018-05-15\",\"title\":\"Solo: A Star Wars Story\",\"video\":false,\"vote_average\":6.563,\"vote_count\":8342},{\"adult\":false,\"backdrop_path\":\"/jn52me8AagfNt7r84SgQbV0R9ZG.jpg\",\"genre_ids\":[12,28,878],\"id\":181812,\"original_language\":\"en\",\"original_title\":\"Star Wars: The Rise of Skywalker\",\"overview\":\"The surviving Resistance faces the First Order once again as the journey of Rey, Finn and Poe Dameron continues. With the power and knowledge of generations behind them, the final battle begins.\",\"popularity\":75.839,\"poster_path\":\"/db32LaOibwEliAmSL2jjDF6oDdj.jpg\",\"release_date\":\"2019-12-18\",\"title\":\"Star Wars: The Rise of Skywalker\",\"video\":false,\"vote_average\":6.327,\"vote_count\":9672},{\"adult\":false,\"backdrop_path\":\"/8mTHUXS3vwub5ZlovQkZ8veQUah.jpg\",\"genre_ids\":[28,12,878],\"id\":330459,\"original_language\":\"en\",\"original_title\":\"Rogue One: A Star Wars Story\",\"overview\":\"A rogue band of resistance fighters unite for a mission to steal the Death Star plans and bring a new hope to the galaxy.\",\"popularity\":97.817,\"poster_path\":\"/i0yw1mFbB7sNGHCs7EXZPzFkdA1.jpg\",\"release_date\":\"2016-12-14\",\"title\":\"Rogue One: A Star Wars Story\",\"video\":false,\"vote_average\":7.494,\"vote_count\":15005},{\"adult\":false,\"backdrop_path\":\"/aQX9Hc4pCdbkzf4Oz6FMSpujagV.jpg\",\"genre_ids\":[12,28,878],\"id\":1895,\"original_language\":\"en\",\"original_title\":\"Star Wars: Episode III - Revenge of the Sith\",\"overview\":\"The evil Darth Sidious enacts his final plan for unlimited power -- and the heroic Jedi Anakin Skywalker must choose a side.\",\"popularity\":62.334,\"poster_path\":\"/xfSAoBEm9MNBjmlNcDYLvLSMlnq.jpg\",\"release_date\":\"2005-05-17\",\"title\":\"Star Wars: Episode III - Revenge of the Sith\",\"video\":false,\"vote_average\":7.43,\"vote_count\":13452},{\"adult\":false,\"backdrop_path\":\"/f53Jujiap580mgfefID0T0g2e17.jpg\",\"genre_ids\":[16,10751,878,35,10770],\"id\":857702,\"original_language\":\"en\",\"original_title\":\"LEGO Star Wars Terrifying Tales\",\"overview\":\"Poe Dameron and BB-8 must face the greedy crime boss Graballa the Hutt, who has purchased Darth Vader’s castle and is renovating it into the galaxy’s first all-inclusive Sith-inspired luxury hotel.\",\"popularity\":22.366,\"poster_path\":\"/fYiaBZDjyXjvlY6EDZMAxIhBO1I.jpg\",\"release_date\":\"2021-10-01\",\"title\":\"LEGO Star Wars Terrifying Tales\",\"video\":false,\"vote_average\":6.802,\"vote_count\":239},{\"adult\":false,\"backdrop_path\":\"/3TeGmKJfkik1D1rIoqGb1aR4k9c.jpg\",\"genre_ids\":[12,28,878],\"id\":1893,\"original_language\":\"en\",\"original_title\":\"Star Wars: Episode I - The Phantom Menace\",\"overview\":\"Anakin Skywalker, a young slave strong with the Force, is discovered on Tatooine. Meanwhile, the evil Sith have returned, enacting their plot for revenge against the Jedi.\",\"popularity\":53.17,\"poster_path\":\"/6wkfovpn7Eq8dYNKaG5PY3q2oq6.jpg\",\"release_date\":\"1999-05-19\",\"title\":\"Star Wars: Episode I - The Phantom Menace\",\"video\":false,\"vote_average\":6.554,\"vote_count\":14341},{\"adult\":false,\"backdrop_path\":\"/iflKt34Ck2JpY2PY9wW1zwdJgJi.jpg\",\"genre_ids\":[16,878,12,10751],\"id\":782054,\"original_language\":\"ja\",\"original_title\":\"映画ドラえもん のび太の宇宙小戦争 2021\",\"overview\":\"One day during summer vacation, a palm-sized alien named Papi appears from a small rocket that Nobita picks up. He is the president of Pirika, a small planet in outer space, and has come to Earth to escape the rebels. Doraemon and his friends are puzzled by Papi’s small size, but as they play together using the secret tool “Small Light”, they gradually become friends. However, a whale-shaped space battleship comes to earth and attacks Doraemon, Nobita and the others in order to capture Papi. Feeling responsible for getting everyone involved, Papi tries to stand up to the rebels. Doraemon and his friends leave for the planet Pirika to protect their dear friend and his home.\",\"popularity\":20.517,\"poster_path\":\"/48gKZioIDeUOI0afbYv3kh9u9RQ.jpg\",\"release_date\":\"2022-03-04\",\"title\":\"Doraemon the Movie: Nobita's Little Star Wars 2021\",\"video\":false,\"vote_average\":5.9,\"vote_count\":106},{\"adult\":false,\"backdrop_path\":\"/abwxHfymXGAbbH3lo9PDEJEfvtW.jpg\",\"genre_ids\":[12,28,878],\"id\":1894,\"original_language\":\"en\",\"original_title\":\"Star Wars: Episode II - Attack of the Clones\",\"overview\":\"Following an assassination attempt on Senator Padmé Amidala, Jedi Knights Anakin Skywalker and Obi-Wan Kenobi investigate a mysterious plot that could change the galaxy forever.\",\"popularity\":45.47,\"poster_path\":\"/oZNPzxqM2s5DyVWab09NTQScDQt.jpg\",\"release_date\":\"2002-05-15\",\"title\":\"Star Wars: Episode II - Attack of the Clones\",\"video\":false,\"vote_average\":6.6,\"vote_count\":12984},{\"adult\":false,\"backdrop_path\":\"/wBBONMlfnrU2GxxN7X2pFDdZuRB.jpg\",\"genre_ids\":[16,12,10751,14,878],\"id\":161704,\"original_language\":\"ja\",\"original_title\":\"ドラえもん のび太の宇宙小戦争\",\"overview\":\"Nobita helps Doraemon to create a space movie. After Dekisugi fails to help them, the duo rope in Shizuka, who prefers to make a film about dolls.\",\"popularity\":15.305,\"poster_path\":\"/n4IPqrfXEEtMC8hzV5PaCElkdNP.jpg\",\"release_date\":\"1985-03-16\",\"title\":\"Doraemon: Nobita's Little Star Wars\",\"video\":false,\"vote_average\":6.878,\"vote_count\":37},{\"adult\":false,\"backdrop_path\":\"/uNjBnOmdjZoiWTLQ938YJZ1cYVU.jpg\",\"genre_ids\":[16,35,10751,878,12,10770],\"id\":392216,\"original_language\":\"en\",\"original_title\":\"Phineas and Ferb: Star Wars\",\"overview\":\"Phineas and Ferb become the galaxy's unlikeliest last hope when they must return the Death Star plans to the Rebel Alliance.\",\"popularity\":15.693,\"poster_path\":\"/2XGlp5x232CeZM0PVjMMYQcXViA.jpg\",\"release_date\":\"2014-07-26\",\"title\":\"Phineas and Ferb: Star Wars\",\"video\":false,\"vote_average\":7.152,\"vote_count\":197},{\"adult\":false,\"backdrop_path\":\"/eVA4ztLIuPEsokkgQ3NRt9rTRVh.jpg\",\"genre_ids\":[16,28,878,12],\"id\":12180,\"original_language\":\"en\",\"original_title\":\"Star Wars: The Clone Wars\",\"overview\":\"As the Clone Wars sweep through the galaxy, the heroic Jedi Knights struggle to maintain order and restore peace. More and more systems are falling prey to the forces of the dark side as the Galactic Republic slips further and further under the sway of the Separatists and their never-ending droid army. Anakin Skywalker and his Padawan learner Ahsoka Tano find themselves on a mission with far-reaching consequences, one that brings them face-to-face with crime lord Jabba the Hutt. But Count Dooku and his sinister agents, including the nefarious Asajj Ventress, will stop at nothing to ensure that Anakin and Ahsoka fail at their quest. Meanwhile, on the front lines of the Clone Wars, Obi-Wan Kenobi and Master Yoda lead the massive clone army in a valiant effort to resist the forces of the dark side...\",\"popularity\":22.813,\"poster_path\":\"/iJQfixW818LUdSXlCDL3JZm0S0g.jpg\",\"release_date\":\"2008-08-05\",\"title\":\"Star Wars: The Clone Wars\",\"video\":false,\"vote_average\":6.126,\"vote_count\":1958},{\"adult\":false,\"backdrop_path\":\"/1Lhc32P0a62BgMFgd20wXR1osR3.jpg\",\"genre_ids\":[16,10751,878,12,35],\"id\":732670,\"original_language\":\"en\",\"original_title\":\"LEGO Star Wars Holiday Special\",\"overview\":\"As her friends prep for a Life Day holiday celebration, Rey journeys with BB-8 on a quest to gain a deeper knowledge of the Force at a mysterious Jedi Temple. There, she embarks on a cross-timeline adventure through beloved moments in Star Wars history, coming into contact with iconic heroes and villains from all eras of the saga. But will she make it back in time for the Life Day feast?\",\"popularity\":16.452,\"poster_path\":\"/zyzJSI7UZZzz5Toj10rYGF5689z.jpg\",\"release_date\":\"2020-11-17\",\"title\":\"LEGO Star Wars Holiday Special\",\"video\":false,\"vote_average\":6.523,\"vote_count\":311},{\"adult\":false,\"backdrop_path\":null,\"genre_ids\":[99],\"id\":432134,\"original_language\":\"en\",\"original_title\":\"Star Wars: Heroes \\u0026 Villains\",\"overview\":\"A look at the creation and filming of the various heroes and villains from all six Star Wars movies, leading up to the release of Star Wars: Episode III - Revenge of the Sith.\",\"popularity\":4.023,\"poster_path\":\"/9ReI6qt3bvsIxUZkDpOzaCpiLwx.jpg\",\"release_date\":\"2005-05-03\",\"title\":\"Star Wars: Heroes \\u0026 Villains\",\"video\":false,\"vote_average\":7.2,\"vote_count\":20},{\"adult\":false,\"backdrop_path\":null,\"genre_ids\":[99],\"id\":522640,\"original_language\":\"es\",\"original_title\":\"Criaturas de La guerra de las galaxias\",\"overview\":\"\",\"popularity\":2.226,\"poster_path\":null,\"release_date\":\"2006-12-12\",\"title\":\"Creatures from Star Wars\",\"video\":false,\"vote_average\":4.0,\"vote_count\":2},{\"adult\":false,\"backdrop_path\":\"/l3OSKCM0oBOGuioC2jeaeeV8m4I.jpg\",\"genre_ids\":[16,35,878,28,10770],\"id\":42979,\"original_language\":\"en\",\"original_title\":\"Robot Chicken: Star Wars\",\"overview\":\"A series of 30 sketches, following the hilarious antics of various characters from a galaxy, far, far away.\",\"popularity\":10.037,\"poster_path\":\"/h44WN4mVJ6wEpJgLaaNoFjv0NAo.jpg\",\"release_date\":\"2007-07-17\",\"title\":\"Robot Chicken: Star Wars\",\"video\":false,\"vote_average\":7.223,\"vote_count\":242},{\"adult\":false,\"backdrop_path\":\"/98CXGiN2bIh6HUnRjFNGgA9o4FZ.jpg\",\"genre_ids\":[99],\"id\":956879,\"original_language\":\"fr\",\"original_title\":\"Dans l’ombre du Star Wars Kid\",\"overview\":\"Ghyslain Raza, better known as the “Star Wars Kid,” breaks his silence to reflect on our hunger for content and the right to be forgotten in the digital age.\",\"popularity\":1.357,\"poster_path\":\"/zspMlOFJ76g5KyfmucgnvnkJnuN.jpg\",\"release_date\":\"2022-03-30\",\"title\":\"Star Wars Kid: The Rise of the Digital Shadows\",\"video\":false,\"vote_average\":7.6,\"vote_count\":9},{\"adult\":false,\"backdrop_path\":\"/7nHXstkbnX8t7fKICraMJkuPhK5.jpg\",\"genre_ids\":[14,878,10751,10770],\"id\":74849,\"original_language\":\"en\",\"original_title\":\"The Star Wars Holiday Special\",\"overview\":\"Luke Skywalker and Han Solo battle evil Imperial forces to help Chewbacca reach his imperiled family on the Wookiee planet - in time for Life Day, their most important day of the year!\",\"popularity\":19.477,\"poster_path\":\"/2X17DnEtlI6ULf95wXC6sA4GrlL.jpg\",\"release_date\":\"1978-11-17\",\"title\":\"The Star Wars Holiday Special\",\"video\":false,\"vote_average\":3.337,\"vote_count\":445}],\"total_pages\":10,\"total_results\":184}\n"
     ]
    }
   ],
   "source": [
    "response = requests.get(url, params=params)\n",
    "print(response.text)"
   ]
  },
  {
   "cell_type": "code",
   "execution_count": null,
   "metadata": {},
   "outputs": [],
   "source": []
  }
 ],
 "metadata": {
  "kernelspec": {
   "display_name": "prism",
   "language": "python",
   "name": "prism"
  },
  "language_info": {
   "codemirror_mode": {
    "name": "ipython",
    "version": 3
   },
   "file_extension": ".py",
   "mimetype": "text/x-python",
   "name": "python",
   "nbconvert_exporter": "python",
   "pygments_lexer": "ipython3",
   "version": "3.9.11"
  }
 },
 "nbformat": 4,
 "nbformat_minor": 2
}
